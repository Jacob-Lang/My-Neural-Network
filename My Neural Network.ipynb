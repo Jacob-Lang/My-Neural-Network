{
 "cells": [
  {
   "cell_type": "markdown",
   "metadata": {},
   "source": [
    "# My Neural Network\n",
    "\n",
    "In this project I want to build a neural network myself from scratch. I.e. not using keras or tensorflow or the like. I will only rely on numpy. At the same time I want to practice my general software development skills so I am going to write my own python package: jacobnet. This contains classes for neurons, layers and networks and is unit tested. \n",
    "\n",
    "The package and tests can be found in this repository.\n",
    "\n",
    "Currently my network can feedforward data and update the weights for single training examples. (I need to update it to deal with batches of data.) Below is an example of it's current functionality. "
   ]
  },
  {
   "cell_type": "code",
   "execution_count": 1,
   "metadata": {},
   "outputs": [],
   "source": [
    "import jacobnet as jn\n",
    "import numpy as np\n",
    "import matplotlib.pyplot as plt"
   ]
  },
  {
   "cell_type": "code",
   "execution_count": 2,
   "metadata": {},
   "outputs": [],
   "source": [
    "# create network instance with input size 10, hidden layers of size 10 and 5 and an output layer of size 2. \n",
    "net = jn.network.Network(input_size=10, layer_sizes = [10,5,2], seed=None)"
   ]
  },
  {
   "cell_type": "markdown",
   "metadata": {},
   "source": [
    "I won't train on any meaningful data yet but I can see that the backpropagation is working by using some dummy features and labels."
   ]
  },
  {
   "cell_type": "code",
   "execution_count": 3,
   "metadata": {},
   "outputs": [],
   "source": [
    "input_array = np.random.random(10)\n",
    "target_output = np.random.random(2)"
   ]
  },
  {
   "cell_type": "code",
   "execution_count": 4,
   "metadata": {},
   "outputs": [],
   "source": [
    "# propagate the input forward through the network\n",
    "output = net.forward(input_array)"
   ]
  },
  {
   "cell_type": "code",
   "execution_count": 5,
   "metadata": {},
   "outputs": [
    {
     "name": "stdout",
     "output_type": "stream",
     "text": [
      "Target output is: [0.14311834 0.41264828]\n",
      "Actual output is: [0.27054863 0.59196225]\n",
      "The cost for this output is: 0.024195988741744417\n"
     ]
    }
   ],
   "source": [
    "print('Target output is:', target_output)\n",
    "print('Actual output is:', output)\n",
    "c0 = jn.utils.cost(target_output, output)\n",
    "print('The cost for this output is:', c0)"
   ]
  },
  {
   "cell_type": "markdown",
   "metadata": {},
   "source": [
    "Now I will update the network using backpropagation for this single training example and keep track of the cost after each iteration."
   ]
  },
  {
   "cell_type": "code",
   "execution_count": 6,
   "metadata": {},
   "outputs": [],
   "source": [
    "costs = [c0]\n",
    "learning_rate = 0.01\n",
    "n = 0\n",
    "while n < 1000:\n",
    "    # for backpropagation we need to store the activations of the forward pass\n",
    "    a_store, z_store = net.forward(input_array, mode='train')\n",
    "    # get the errors for each layer\n",
    "    deltas = net.backpropagate(a_store[-1], z_store, target_output)\n",
    "    # update the weights and biases\n",
    "    net.update_network(deltas, learning_rate, a_store, input_array)\n",
    "    # feedforward and calculate cost again for new network \n",
    "    output = net.forward(input_array, mode='test')\n",
    "    c = jn.utils.cost(target_output, output)\n",
    "    costs.append(c)\n",
    "    n += 1"
   ]
  },
  {
   "cell_type": "code",
   "execution_count": 7,
   "metadata": {},
   "outputs": [
    {
     "data": {
      "image/png": "[encoded data removed]",
      "text/plain": [
       "<Figure size 432x288 with 1 Axes>"
      ]
     },
     "metadata": {
      "needs_background": "light"
     },
     "output_type": "display_data"
    }
   ],
   "source": [
    "plt.plot(costs)\n",
    "plt.title('Training a neural network on a single input and output')\n",
    "plt.xlabel('Iterations')\n",
    "plt.ylabel('Quadratic cost');"
   ]
  },
  {
   "cell_type": "code",
   "execution_count": 8,
   "metadata": {},
   "outputs": [
    {
     "name": "stdout",
     "output_type": "stream",
     "text": [
      "Target output is: [0.14311834 0.41264828]\n",
      "Actual output is: [0.17223576 0.4266652 ]\n",
      "The cost for this output is: 0.0005221490164685203\n"
     ]
    }
   ],
   "source": [
    "print('Target output is:', target_output)\n",
    "print('Actual output is:', output)\n",
    "c = jn.utils.cost(target_output, output)\n",
    "print('The cost for this output is:', c)"
   ]
  },
  {
   "cell_type": "markdown",
   "metadata": {},
   "source": [
    "So we can see that the neural network succesfully learnt to produce the target output given the input array. These were just random vectors though. To make this network useful I will need to train on meaningful data and to train the data in batches. I will be updating the jacobnet package to deliver this. "
   ]
  },
  {
   "cell_type": "code",
   "execution_count": null,
   "metadata": {},
   "outputs": [],
   "source": []
  }
 ],
 "metadata": {
  "kernelspec": {
   "display_name": "Python 3",
   "language": "python",
   "name": "python3"
  },
  "language_info": {
   "codemirror_mode": {
    "name": "ipython",
    "version": 3
   },
   "file_extension": ".py",
   "mimetype": "text/x-python",
   "name": "python",
   "nbconvert_exporter": "python",
   "pygments_lexer": "ipython3",
   "version": "3.8.2"
  }
 },
 "nbformat": 4,
 "nbformat_minor": 4
}
